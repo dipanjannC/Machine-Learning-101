{
 "cells": [
  {
   "cell_type": "code",
   "execution_count": 1,
   "metadata": {},
   "outputs": [],
   "source": [
    "load_cached_file = True # if True, vectorize_subset is ignored\n",
    "vectorize_subset = 100 # for quicker testing, only vectorize a subset of documents. Otherwise, set to -1 to process all 22,000 (takes about 6 hours)"
   ]
  },
  {
   "cell_type": "code",
   "execution_count": 2,
   "metadata": {},
   "outputs": [
    {
     "name": "stderr",
     "output_type": "stream",
     "text": [
      "/anaconda/envs/py37_tensorflow115/lib/python3.7/site-packages/sklearn/externals/joblib/__init__.py:15: FutureWarning: sklearn.externals.joblib is deprecated in 0.21 and will be removed in 0.23. Please import this functionality directly from joblib, which can be installed with: pip install joblib. If this warning is raised when loading pickled models, you may need to re-serialize those models with scikit-learn 0.21+.\n",
      "  warnings.warn(msg, category=FutureWarning)\n"
     ]
    }
   ],
   "source": [
    "from scipy.spatial.distance import cdist\n",
    "import subprocess\n",
    "import numpy as np\n",
    "import pandas as pd\n",
    "import matplotlib.pyplot as plt\n",
    "import pickle as pkl\n",
    "from ipywidgets import interact, widgets # this is what makes the dataframe interactive\n",
    "\n",
    "# BioBERT dependencies\n",
    "# Tensorflow 2.0 didn't work with the pretrained BioBERT weights\n",
    "# !pip install tensorflow==1.15\n",
    "# Install bert-as-service\n",
    "# !pip install bert-serving-server==1.10.0\n",
    "# !pip install bert-serving-client==1.10.0\n",
    "\n",
    "# CorEx topic modeling dependencies\n",
    "# https://github.com/gregversteeg/corex_topic\n",
    "# !pip install 'corextopic'\n",
    "from sklearn.feature_extraction.text import CountVectorizer\n",
    "import scipy.sparse as ss\n",
    "from corextopic import corextopic as ct"
   ]
  },
  {
   "cell_type": "code",
   "execution_count": 3,
   "metadata": {},
   "outputs": [],
   "source": [
    "if load_cached_file is True:\n",
    "    df = pkl.load(open('df_biobert_vectors.pkl', \"rb\"))\n",
    "    unvectorized_df = pkl.load(open('df_final_covid_clean_topics.pkl', \"rb\"))\n",
    "    df['clean_tfidf'] = unvectorized_df['clean_tfidf'] # copy over the heavily preprocessed and already tokenized words for CorEx\n",
    "else:\n",
    "    df = pkl.load(open('df_final_covid_clean_topics.pkl', \"rb\"))\n",
    "    df = df.reset_index() # just in case the indices aren't sequential"
   ]
  },
  {
   "cell_type": "code",
   "execution_count": 4,
   "metadata": {},
   "outputs": [
    {
     "name": "stdout",
     "output_type": "stream",
     "text": [
      "0: domain,residue,binding,sequence,structure,structural,rna,amino_acid,genome,mutation\n",
      "1: pathway,cellular,mechanism,signal,function,role,regulate,host,mrna,intracellular\n",
      "2: health,international,national,country,policy,practice,public,service,government,healthcare\n",
      "3: response,ifn,mouse,cytokine,immune_response,immune,inflammatory,inflammation,interferon,macrophage\n",
      "4: expression,replication,inhibit,receptor,express,activity,vitro,activation,induced,inhibition\n",
      "5: public_health,research,infectious_disease,approach,need,future,threat,new,information,global\n",
      "6: sample,detection,detect,pcr,test,positive,specimen,diagnostic,rtpcr,polymerase_chain_reaction\n",
      "7: severe_acute_respiratory,respiratory,syndrome_coronavirus,middle_east_respiratory,sarscov,patient,merscov,syndrome_sars,sars,coronavirus\n",
      "8: hospital,risk,conduct,estimate,care,participant,measure,confidence_interval,questionnaire,enrol\n",
      "9: lung,acute,clinical,day,pulmonary,severe,associate,treatment,outcome,severity\n",
      "10: conclusion,background,objective,total,compare,aim,period,group,evaluate,rate\n",
      "11: antibody,serum,pig,diarrhea,igg,epitope,antigen,neutralize,neutralize_antibody,porcine\n",
      "12: specie,bat,evolution,evolutionary,phylogenetic_analysis,phylogenetic,zoonotic,reservoir,diversity,genus\n",
      "13: vaccine,efficacy,development,therapeutic,effective,drug,vaccination,protection,immunogenicity,challenge\n",
      "14: tool,base,apply,developed,accuracy,design,performance,database,validate,simple\n",
      "15: gene,outbreak,functional,target,interaction,epidemic,complex,transmission,molecule,dna\n",
      "16: age,year,electronic_supplementary_material_online,population,influenza,prevalence,among,seasonal,contains_supplementary_material,available_authorize_user\n",
      "17: review,indicate,suggest,discus,strain,article,found,observe,focus,reveal\n",
      "18: case,china,december,january,february,covid,wuhan,surveillance,ncov,epidemiological\n",
      "19: bacteria,bacterial,antibiotic,antimicrobial,microbial,streptococcus_pneumoniae,staphylococcus_aureus,air,colonization,trial\n",
      "CPU times: user 25.1 s, sys: 283 ms, total: 25.3 s\n",
      "Wall time: 25.3 s\n"
     ]
    },
    {
     "data": {
      "image/png": "[encoded data removed]",
      "text/plain": [
       "<Figure size 720x360 with 1 Axes>"
      ]
     },
     "metadata": {
      "needs_background": "light"
     },
     "output_type": "display_data"
    }
   ],
   "source": [
    "%%time\n",
    "\n",
    "# takes 20-60 seconds depending on how many CorEx topics you select\n",
    "\n",
    "target_num_topics = 20 # num topics CorEx will identify\n",
    "\n",
    "def dummy(doc):\n",
    "    return doc\n",
    "\n",
    "vectorizer = CountVectorizer(\n",
    "    tokenizer=dummy,\n",
    "    preprocessor=dummy,\n",
    ")\n",
    "\n",
    "# to process without my cached file, you can comment out the dummy params in CountVectorizer and change this line to use df['document'].\n",
    "# NOTE: this will greatly increase the run time of this cell.\n",
    "corex_docs = df['clean_tfidf'].tolist()\n",
    "doc_word = vectorizer.fit_transform(corex_docs)\n",
    "\n",
    "doc_word = ss.csr_matrix(doc_word)\n",
    "\n",
    "# Get words that label the columns (needed to extract readable topics and make anchoring easier)\n",
    "words = list(np.asarray(vectorizer.get_feature_names()))\n",
    "\n",
    "# https://github.com/gregversteeg/corex_topic\n",
    "# Train the CorEx topic model with x topics (n_hidden)\n",
    "topic_model = ct.Corex(n_hidden=target_num_topics, words=words, max_iter=1000, verbose=False, seed=2020)\n",
    "\n",
    "# You can seed CorEx with anchor words for some topics if you find it is struggling in certain areas\n",
    "# domain expertise is important to choose the right anchor words\n",
    "#topic_model.fit(doc_word, words=words, anchors=[\n",
    "#    ['transmission', 'incubation'],\n",
    "#    ['bat', 'pig', 'porcine'],\n",
    "#    ['national','international','policy', 'public_health', 'public']\n",
    "#], anchor_strength=2)\n",
    "\n",
    "# or use the default where it is unguided\n",
    "topic_model.fit(doc_word, words=words)\n",
    "\n",
    "# plot overall topic scores\n",
    "plt.figure(figsize=(10,5))\n",
    "plt.bar(range(topic_model.tcs.shape[0]), topic_model.tcs, color='#4e79a7', width=0.5)\n",
    "plt.xlabel('Topic', fontsize=16)\n",
    "plt.ylabel('Total Correlation (nats)', fontsize=16);\n",
    "# no single topic should contribute too much. If one does, that indicates more investigation for boilerplate text, more preprocessing required\n",
    "# To find optimal num of topics, we should keep adding topics until additional topics do not significantly contribute to the overall TC\n",
    "\n",
    "topics = topic_model.get_topics()\n",
    "topic_list = []\n",
    "\n",
    "for n,topic in enumerate(topics):\n",
    "    topic_words,_ = zip(*topic)\n",
    "    print('{}: '.format(n) + ','.join(topic_words))\n",
    "    topic_list.append('topic_' + str(n) + ': ' + ', '.join(topic_words))"
   ]
  },
  {
   "cell_type": "code",
   "execution_count": 5,
   "metadata": {},
   "outputs": [
    {
     "name": "stdout",
     "output_type": "stream",
     "text": [
      "NOTE: 'words' not provided to CorEx. Returning topics as lists of column indices\n",
      "\n",
      "\n",
      "PARENT GROUP: 4,1,15,8,2,0,18,3,6,13\n",
      "expression,replication,inhibit,pathway,cellular,mechanism,gene,outbreak,functional,hospital,risk,conduct,health,international,national,domain,residue,binding,case,china,december,response,ifn,mouse,sample,detection,detect,vaccine,efficacy,development\n",
      "\n",
      "PARENT GROUP: 7\n",
      "severe_acute_respiratory,respiratory,syndrome_coronavirus\n",
      "\n",
      "PARENT GROUP: 5,17,14,11,12\n",
      "public_health,research,infectious_disease,review,indicate,suggest,tool,base,apply,antibody,serum,pig,specie,bat,evolution\n",
      "\n",
      "PARENT GROUP: 10,16,9,19\n",
      "conclusion,background,objective,age,year,electronic_supplementary_material_online,lung,acute,clinical,bacteria,bacterial,antibiotic\n",
      "\n"
     ]
    }
   ],
   "source": [
    "# Train successive hierarchical layers\n",
    "tm_layer2 = ct.Corex(n_hidden=4)\n",
    "tm_layer2.fit(topic_model.labels)\n",
    "\n",
    "layer2_topics = tm_layer2.get_topics()\n",
    "parents = []\n",
    "\n",
    "for parent_topic in layer2_topics:\n",
    "    layer_obj = {\n",
    "        'keys': [],\n",
    "        'words': []\n",
    "    }\n",
    "    \n",
    "    for ind, _ in parent_topic:\n",
    "        layer_obj['keys'] += [ind]\n",
    "        layer_obj['words'] += [w[0] for w in topics[ind]][0:3]\n",
    "    \n",
    "    parents.append(layer_obj)\n",
    "\n",
    "print('\\n')\n",
    "\n",
    "for p_topic in parents:\n",
    "    key_str = [str(k) for k in p_topic['keys']]\n",
    "    keys = ','.join(key_str)\n",
    "    top_words = ','.join(p_topic['words'])\n",
    "    \n",
    "    print('PARENT GROUP: ' + keys)\n",
    "    print(top_words + '\\n')"
   ]
  },
  {
   "cell_type": "code",
   "execution_count": 6,
   "metadata": {},
   "outputs": [],
   "source": [
    "# remove any existing topic columns from previous runs\n",
    "for c in [col for col in df.columns if col.startswith('topic_')]:\n",
    "    del df[c]\n",
    "\n",
    "for topic_num in range(0, len(topics)):\n",
    "    # CorEx stores the likelihood scores in the same order as the source document, so the index will match\n",
    "    df['topic_' + str(topic_num)] = topic_model.log_p_y_given_x[:,topic_num]\n",
    "\n",
    "# For display purposes, create a final \"best_topic\" column which is the highest scoring topic for a row.\n",
    "# The search UI will allow you to optionally view all topic scores\n",
    "corex_cols = [col for col in df if col.startswith('topic_')]\n",
    "df['best_topic'] = df[corex_cols].idxmax(axis=1)"
   ]
  },
  {
   "cell_type": "code",
   "execution_count": 10,
   "metadata": {},
   "outputs": [
    {
     "name": "stdout",
     "output_type": "stream",
     "text": [
      "CPU times: user 2 ms, sys: 89 µs, total: 2.09 ms\n",
      "Wall time: 102 ms\n"
     ]
    }
   ],
   "source": [
    "%%time\n",
    "# takes 20 sec to start the BERT server\n",
    "\n",
    "# the documentation recommends batch size of 16 for CPU, 256 for GPU\n",
    "# Kaggle notebooks have 2 cpus, which is the num_worker param\n",
    "\n",
    "# bert_command = 'bert-serving-start -model_dir biobert_v1.1_pubmed -max_seq_len=None -max_batch_size=32 -num_worker=4'\n",
    "# bert_command = 'bert-serving-start -model_dir biobert_large/biobert_large -max_seq_len=None -max_batch_size=32 -num_worker=4'\n",
    "# process = subprocess.Popen(bert_command.split(), stdout=subprocess.PIPE)\n",
    "\n",
    "# Start the BERT client. It takes about 10 seconds for the bert server to start, which delays the client\n",
    "from bert_serving.client import BertClient\n",
    "\n",
    "bc = BertClient()"
   ]
  },
  {
   "cell_type": "code",
   "execution_count": 11,
   "metadata": {},
   "outputs": [
    {
     "name": "stdout",
     "output_type": "stream",
     "text": [
      "CPU times: user 3 µs, sys: 0 ns, total: 3 µs\n",
      "Wall time: 5.72 µs\n"
     ]
    }
   ],
   "source": [
    "%%time\n",
    "\n",
    "if load_cached_file is False:\n",
    "    # FOR TESTING - shuffle rows and select n\n",
    "    if (vectorize_subset > -1):\n",
    "        df = df.sample(frac=1).head(vectorize_subset).reset_index(drop=True)\n",
    "\n",
    "    abstracts = df['document'].tolist()\n",
    "\n",
    "    # add the BioBERT vector to each row\n",
    "    embeddings = bc.encode(abstracts)\n",
    "\n",
    "    select_cols = ['title', 'abstract', 'authors', 'document', 'clean_tfidf']\n",
    "\n",
    "    # slim down filesize of dataframe by only selecting the cols we need\n",
    "    df = df[select_cols]\n",
    "\n",
    "    df['biobert_vector'] = embeddings.tolist()\n",
    "    pkl.dump(df, open('df_biobert_vectors.pkl', \"wb\"))"
   ]
  },
  {
   "cell_type": "code",
   "execution_count": 12,
   "metadata": {
    "scrolled": false
   },
   "outputs": [
    {
     "name": "stdout",
     "output_type": "stream",
     "text": [
      "To focus on a CorEx topic area, select it from the dropdown and drag the threshold slider to the right.\n",
      "A higher threshold value will filter out results that are less likely to be belong to the topic.\n"
     ]
    },
    {
     "data": {
      "application/vnd.jupyter.widget-view+json": {
       "model_id": "0932fbfa55eb49eda45de3609d9c3f30",
       "version_major": 2,
       "version_minor": 0
      },
      "text/plain": [
       "interactive(children=(Text(value='What is known about transmission, incubation, and environmental stability? '…"
      ]
     },
     "metadata": {},
     "output_type": "display_data"
    }
   ],
   "source": [
    "print('To focus on a CorEx topic area, select it from the dropdown and drag the threshold slider to the right.')\n",
    "print('A higher threshold value will filter out results that are less likely to be belong to the topic.')\n",
    "\n",
    "default_question = \"\"\"What is known about transmission, incubation, and environmental stability? \"\"\"\n",
    "\n",
    "pd.set_option('display.float_format', lambda x: '%.3f' % x)\n",
    "pd.set_option('max_colwidth', 120)\n",
    "\n",
    "biobert_vectors = np.array(df.biobert_vector.tolist())\n",
    "total_docs = len(df.index)\n",
    "\n",
    "@interact\n",
    "def search_articles(\n",
    "    query=default_question,\n",
    "    topic=topic_list,\n",
    "    #topic_threshold=(-20, 0.00, 0.5),\n",
    "    topic_threshold=widgets.IntSlider(min=-15,max=0,step=0.5,value=-15),\n",
    "    num_results=[10, 25, 100],\n",
    "    show_topic_scores=[False, True],\n",
    "    score_type=['cosine', 'Euclidean'],\n",
    "    \n",
    "):\n",
    "\n",
    "    query_embedding = bc.encode([query])[0]\n",
    "\n",
    "    sort_ascending = False\n",
    "    score = []\n",
    "    \n",
    "    if score_type is 'Euclidean':\n",
    "        score = np.sum(query_embedding * biobert_vectors, axis=1) / np.linalg.norm(biobert_vectors, axis=1)\n",
    "        sort_ascending = False\n",
    "    else:\n",
    "#         print(len(np.stack(df.biobert_vector)), len(query_embedding), query_embedding)\n",
    "        score = cdist(np.stack(df.biobert_vector), [query_embedding], metric=\"cosine\")\n",
    "#         score = 0\n",
    "        sort_ascending = True\n",
    "    \n",
    "    df[\"score\"] = score\n",
    "    \n",
    "    # smaller corex_topic scores means more likely to be of that topic\n",
    "    corex_cols = []\n",
    "    if show_topic_scores is True:\n",
    "        corex_cols = [col for col in df if col.startswith('topic_')]\n",
    "        \n",
    "    select_cols = ['title', 'abstract', 'authors', 'score', 'best_topic'] + corex_cols\n",
    "    \n",
    "    results = df[select_cols].loc[df[topic.split(':')[0]] > topic_threshold].sort_values(by=['score'], ascending=sort_ascending).head(num_results)\n",
    "    \n",
    "    if (len(results.index) == 0):\n",
    "        print('NO RESULTS')\n",
    "        \n",
    "        return None\n",
    "    else:\n",
    "\n",
    "        top_row = results.iloc[0]\n",
    "\n",
    "        print('TOP RESULT OUT OF ' + str(total_docs) + ' DOCS FOR QUESTION:\\n' + query + '\\n')\n",
    "        print('TITLE: ' + top_row['title'] + '\\n')\n",
    "        print('ABSTRACT: ' + top_row['abstract'] + '\\n')\n",
    "        print('PREDICTED TOPIC: ' + topic_list[int(top_row['best_topic'].replace('topic_', ''))])\n",
    "\n",
    "        print('\\nAUTHORS: ' + str(top_row['authors']))\n",
    "\n",
    "        select_cols.remove('authors')\n",
    "        \n",
    "        return results[select_cols]"
   ]
  },
  {
   "cell_type": "code",
   "execution_count": null,
   "metadata": {},
   "outputs": [],
   "source": []
  }
 ],
 "metadata": {
  "kernelspec": {
   "display_name": "py37_tensorflow115",
   "language": "python",
   "name": "conda-env-py37_tensorflow115-py"
  },
  "language_info": {
   "codemirror_mode": {
    "name": "ipython",
    "version": 3
   },
   "file_extension": ".py",
   "mimetype": "text/x-python",
   "name": "python",
   "nbconvert_exporter": "python",
   "pygments_lexer": "ipython3",
   "version": "3.7.6"
  }
 },
 "nbformat": 4,
 "nbformat_minor": 4
}
